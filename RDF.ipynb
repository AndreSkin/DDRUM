{
 "cells": [
  {
   "cell_type": "code",
   "execution_count": null,
   "metadata": {},
   "outputs": [],
   "source": [
    "import xml.etree.ElementTree as ET\n",
    "import csv\n",
    "from rdflib import Graph, URIRef, Literal, Namespace\n",
    "from rdflib.namespace import RDF\n",
    "from collections import defaultdict\n",
    "import os\n",
    "from dotenv import load_dotenv"
   ]
  },
  {
   "cell_type": "code",
   "execution_count": 5,
   "metadata": {},
   "outputs": [],
   "source": [
    "def read_tsv(file_tsv):\n",
    "    with open(file_tsv, 'r', encoding='utf-8') as tsvfile:\n",
    "        reader = csv.DictReader(tsvfile, delimiter='\\t')\n",
    "        data = defaultdict(lambda: defaultdict(list))\n",
    "        for row in reader:\n",
    "            if row['MOA_SOURCE_URL']:\n",
    "                data[row['DRUG_NAME'].lower()]['MOA'].append(row['MOA_SOURCE_URL'])\n",
    "            if row['ACT_SOURCE_URL']:\n",
    "                data[row['DRUG_NAME'].lower()]['ACT'].append(row['ACT_SOURCE_URL'])\n",
    "        for drug in data:\n",
    "            if not data[drug]['MOA'] and not data[drug]['ACT']:\n",
    "                data[drug]['NO_URL'].append('null')\n",
    "    return data\n",
    "\n",
    "def generate_rdf_triples(xml_root, file_tsv):\n",
    "    data_tsv = read_tsv(file_tsv)\n",
    "    \n",
    "    graph = Graph()\n",
    "    rdf = Namespace(\"http://www.w3.org/1999/02/22-rdf-syntax-ns#\")\n",
    "    ex = Namespace(\"http://example.org/\")\n",
    "    graph.bind(\"rdf\", rdf)\n",
    "    graph.bind(\"ex\", ex)\n",
    "\n",
    "    study = xml_root\n",
    "\n",
    "    brief_title = study.find('./brief_title').text\n",
    "    condition = study.find('./condition').text\n",
    "\n",
    "    intervention_type = study.find('.//intervention_type').text\n",
    "    intervention_name = study.find('.//intervention_name').text.lower()\n",
    "\n",
    "    if intervention_type.lower() == 'drug' and intervention_name in data_tsv:\n",
    "        urls = data_tsv[intervention_name]\n",
    "\n",
    "        # Add triples to graph\n",
    "        subject = ex[intervention_name.replace(\" \", \"_\")]  # Valid URIs\n",
    "        graph.add((subject, RDF.type, ex['Drug']))\n",
    "        graph.add((subject, ex['condition'], Literal(condition)))\n",
    "        graph.add((subject, ex['intervention_name'], Literal(intervention_name)))\n",
    "        \n",
    "        for url_type in urls:\n",
    "            for url in urls[url_type]:\n",
    "                graph.add((subject, ex[url_type], URIRef(url)))\n",
    "\n",
    "    # Serialize to JSON-LD\n",
    "    json_ld_data = graph.serialize(format='json-ld', indent=4)\n",
    "    print(json_ld_data)\n"
   ]
  },
  {
   "cell_type": "code",
   "execution_count": 6,
   "metadata": {},
   "outputs": [
    {
     "name": "stdout",
     "output_type": "stream",
     "text": [
      "[\n",
      "    {\n",
      "        \"@id\": \"http://example.org/nifedipine\",\n",
      "        \"@type\": [\n",
      "            \"http://example.org/Drug\"\n",
      "        ],\n",
      "        \"http://example.org/MOA\": [\n",
      "            {\n",
      "                \"@id\": \"https://www.ebi.ac.uk/chembl/compound/inspect/CHEMBL193\"\n",
      "            },\n",
      "            {\n",
      "                \"@id\": \"https://pubmed.ncbi.nlm.nih.gov/17276408\"\n",
      "            }\n",
      "        ],\n",
      "        \"http://example.org/condition\": [\n",
      "            {\n",
      "                \"@value\": \"Congenital Adrenal Hyperplasia\"\n",
      "            }\n",
      "        ],\n",
      "        \"http://example.org/intervention_name\": [\n",
      "            {\n",
      "                \"@value\": \"nifedipine\"\n",
      "            }\n",
      "        ]\n",
      "    }\n",
      "]\n"
     ]
    }
   ],
   "source": [
    "# Load the environment variables from the .env file\n",
    "load_dotenv()\n",
    "\n",
    "file_xml = os.getenv('FILE_XML')\n",
    "file_tsv = os.getenv('FILE_TSV')\n",
    "\n",
    "tree = ET.parse(file_xml)\n",
    "root = tree.getroot()\n",
    "\n",
    "generate_rdf_triples(root, file_tsv)\n"
   ]
  }
 ],
 "metadata": {
  "kernelspec": {
   "display_name": "Projekt-Bielefeld",
   "language": "python",
   "name": "python3"
  },
  "language_info": {
   "codemirror_mode": {
    "name": "ipython",
    "version": 3
   },
   "file_extension": ".py",
   "mimetype": "text/x-python",
   "name": "python",
   "nbconvert_exporter": "python",
   "pygments_lexer": "ipython3",
   "version": "3.12.0"
  }
 },
 "nbformat": 4,
 "nbformat_minor": 2
}

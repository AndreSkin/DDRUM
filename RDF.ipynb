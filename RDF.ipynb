{
 "cells": [
  {
   "cell_type": "code",
   "execution_count": 63,
   "metadata": {},
   "outputs": [],
   "source": [
    "import xml.etree.ElementTree as ET\n",
    "import csv\n",
    "from rdflib import Graph, URIRef, Literal, Namespace\n",
    "from rdflib.namespace import RDF\n",
    "\n",
    "def leggi_file_tsv(file_tsv):\n",
    "    with open(file_tsv, 'r', encoding='utf-8') as tsvfile:\n",
    "        reader = csv.DictReader(tsvfile, delimiter='\\t')\n",
    "        data = {row['DRUG_NAME'].lower(): row['MOA_SOURCE_URL'] if row['MOA_SOURCE_URL'] else row['ACT_SOURCE_URL'] if row['ACT_SOURCE_URL'] else 'null' for row in reader}\n",
    "    return data\n",
    "\n",
    "def genera_triple_rdf(xml_root, file_tsv):\n",
    "    data_tsv = leggi_file_tsv(file_tsv)\n",
    "    \n",
    "    graph = Graph()\n",
    "    rdf = Namespace(\"http://www.w3.org/1999/02/22-rdf-syntax-ns#\")\n",
    "    ex = Namespace(\"http://example.org/\")\n",
    "    graph.bind(\"rdf\", rdf)\n",
    "    graph.bind(\"ex\", ex)\n",
    "\n",
    "    study = xml_root\n",
    "\n",
    "    brief_title = study.find('./brief_title').text\n",
    "    condition = study.find('./condition').text\n",
    "\n",
    "    intervention_type = study.find('.//intervention_type').text\n",
    "    intervention_name = study.find('.//intervention_name').text.lower()  # Converti in minuscolo\n",
    "\n",
    "    if intervention_type.lower() == 'drug' and intervention_name in data_tsv:\n",
    "        moa_source_url = data_tsv[intervention_name]\n",
    "\n",
    "        # Aggiungi triple al grafo RDF\n",
    "        subject = ex[intervention_name.replace(\" \", \"_\")]  # Sostituisci spazi con underscore per creare URIs valide\n",
    "        graph.add((subject, RDF.type, ex['Drug']))\n",
    "        graph.add((subject, ex['condition'], Literal(condition)))\n",
    "        graph.add((subject, ex['intervention_name'], Literal(intervention_name)))\n",
    "        graph.add((subject, ex['MOA_SOURCE_URL'], URIRef(moa_source_url)))\n",
    "\n",
    "    # Converte il grafo RDF in JSON-LD\n",
    "    json_ld_data = graph.serialize(format='json-ld', indent=4)\n",
    "    print(json_ld_data)"
   ]
  },
  {
   "cell_type": "code",
   "execution_count": 64,
   "metadata": {},
   "outputs": [
    {
     "name": "stdout",
     "output_type": "stream",
     "text": [
      "[\n",
      "    {\n",
      "        \"@id\": \"http://example.org/nifedipine\",\n",
      "        \"@type\": [\n",
      "            \"http://example.org/Drug\"\n",
      "        ],\n",
      "        \"http://example.org/MOA_SOURCE_URL\": [\n",
      "            {\n",
      "                \"@id\": \"https://pubmed.ncbi.nlm.nih.gov/17276408\"\n",
      "            }\n",
      "        ],\n",
      "        \"http://example.org/condition\": [\n",
      "            {\n",
      "                \"@value\": \"Congenital Adrenal Hyperplasia\"\n",
      "            }\n",
      "        ],\n",
      "        \"http://example.org/intervention_name\": [\n",
      "            {\n",
      "                \"@value\": \"nifedipine\"\n",
      "            }\n",
      "        ]\n",
      "    }\n",
      "]\n"
     ]
    }
   ],
   "source": [
    "# Sostituisci con i tuoi percorsi di file\n",
    "file_xml = '/home/deck/Desktop/UNI/Project/AllPublicXML/NCT0000xxxx/NCT00000102.xml'\n",
    "file_tsv = '/home/deck/Desktop/UNI/Project/drug.target.interaction.tsv'\n",
    "\n",
    "tree = ET.parse(file_xml)\n",
    "root = tree.getroot()\n",
    "\n",
    "genera_triple_rdf(root, file_tsv)\n"
   ]
  }
 ],
 "metadata": {
  "kernelspec": {
   "display_name": "Projekt-Bielefeld",
   "language": "python",
   "name": "python3"
  },
  "language_info": {
   "codemirror_mode": {
    "name": "ipython",
    "version": 3
   },
   "file_extension": ".py",
   "mimetype": "text/x-python",
   "name": "python",
   "nbconvert_exporter": "python",
   "pygments_lexer": "ipython3",
   "version": "3.12.0"
  }
 },
 "nbformat": 4,
 "nbformat_minor": 2
}
